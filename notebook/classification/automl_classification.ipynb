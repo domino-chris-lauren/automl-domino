{
 "cells": [
  {
   "cell_type": "markdown",
   "metadata": {
    "slideshow": {
     "slide_type": "slide"
    }
   },
   "source": [
    "Copyright (c) Microsoft Corporation. All rights reserved. \n",
    "\n",
    "Licensed under the MIT License.\n",
    "\n",
    "# AutoML with FLAML Library\n",
    "\n",
    "\n",
    "## 1. Introduction\n",
    "\n",
    "FLAML is a Python library (https://github.com/microsoft/FLAML) designed to automatically produce accurate machine learning models \n",
    "with low computational cost. It is fast and economical. The simple and lightweight design makes it easy to use and extend, such as adding new learners. FLAML can \n",
    "- serve as an economical AutoML engine,\n",
    "- be used as a fast hyperparameter tuning tool, or \n",
    "- be embedded in self-tuning software that requires low latency & resource in repetitive\n",
    "   tuning tasks.\n",
    "\n",
    "In this notebook, we use one real data example (binary classification) to showcase how to use FLAML library.\n",
    "\n",
    "FLAML requires `Python>=3.7`. To run this notebook example, please install flaml with the `notebook` option:\n",
    "```bash\n",
    "pip install flaml[notebook]\n",
    "```"
   ]
  },
  {
   "cell_type": "code",
   "execution_count": null,
   "metadata": {},
   "outputs": [],
   "source": [
    "%pip install flaml[notebook]\n",
    "# from v0.6.6, catboost is made an optional dependency to build conda package.\n",
    "# to install catboost without installing the notebook option, you can run:\n",
    "# %pip install flaml[catboost]"
   ]
  },
  {
   "cell_type": "markdown",
   "metadata": {
    "slideshow": {
     "slide_type": "slide"
    }
   },
   "source": [
    "## 2. Classification Example\n",
    "### Load data and preprocess\n",
    "\n",
    "Download [Airlines dataset](https://www.openml.org/d/1169) from OpenML. The task is to predict whether a given flight will be delayed, given the information of the scheduled departure."
   ]
  },
  {
   "cell_type": "code",
   "execution_count": 2,
   "metadata": {
    "slideshow": {
     "slide_type": "subslide"
    },
    "tags": []
   },
   "outputs": [
    {
     "name": "stdout",
     "output_type": "stream",
     "text": [
      "load dataset from /mnt/data/automl-domino/openml_ds1169.pkl\n",
      "Dataset name: airlines\n",
      "X_train.shape: (404537, 7), y_train.shape: (404537,);\n",
      "X_test.shape: (134846, 7), y_test.shape: (134846,)\n"
     ]
    }
   ],
   "source": [
    "from flaml.data import load_openml_dataset\n",
    "X_train, X_test, y_train, y_test = load_openml_dataset(dataset_id=1169, data_dir='/mnt/data/automl-domino')"
   ]
  },
  {
   "cell_type": "markdown",
   "metadata": {
    "slideshow": {
     "slide_type": "slide"
    }
   },
   "source": [
    "### Run FLAML\n",
    "In the FLAML automl run configuration, users can specify the task type, time budget, error metric, learner list, whether to subsample, resampling strategy type, and so on. All these arguments have default values which will be used if users do not provide them. For example, the default classifiers are `['lgbm', 'xgboost', 'xgb_limitdepth', 'catboost', 'rf', 'extra_tree', 'lrl1']`. "
   ]
  },
  {
   "cell_type": "code",
   "execution_count": 2,
   "metadata": {
    "slideshow": {
     "slide_type": "slide"
    }
   },
   "outputs": [],
   "source": [
    "''' import AutoML class from flaml package '''\n",
    "from flaml import AutoML\n",
    "automl = AutoML()"
   ]
  },
  {
   "cell_type": "code",
   "execution_count": 3,
   "metadata": {
    "slideshow": {
     "slide_type": "slide"
    }
   },
   "outputs": [],
   "source": [
    "settings = {\n",
    "    \"time_budget\": 600,  # total running time in seconds\n",
    "    \"metric\": 'accuracy',  # can be: 'r2', 'rmse', 'mae', 'mse', 'accuracy', 'roc_auc', 'roc_auc_ovr',\n",
    "                           # 'roc_auc_ovo', 'log_loss', 'mape', 'f1', 'ap', 'ndcg', 'micro_f1', 'macro_f1'\n",
    "    \"task\": 'classification',  # task type\n",
    "    \"log_file_name\": 'airlines_experiment.log',  # flaml log file\n",
    "    \"seed\": 7654321,    # random seed\n",
    "}"
   ]
  },
  {
   "cell_type": "code",
   "execution_count": 4,
   "metadata": {
    "slideshow": {
     "slide_type": "slide"
    },
    "tags": [
     "outputPrepend"
    ]
   },
   "outputs": [
    {
     "name": "stderr",
     "output_type": "stream",
     "text": [
      "[flaml.automl: 09-22 10:45:40] {2565} INFO - task = classification\n",
      "[flaml.automl: 09-22 10:45:40] {2567} INFO - Data split method: stratified\n",
      "[flaml.automl: 09-22 10:45:40] {2570} INFO - Evaluation method: holdout\n",
      "[flaml.automl: 09-22 10:45:40] {2689} INFO - Minimizing error metric: 1-accuracy\n",
      "[flaml.automl: 09-22 10:45:40] {2831} INFO - List of ML learners in AutoML Run: ['lgbm', 'rf', 'catboost', 'xgboost', 'extra_tree', 'xgb_limitdepth', 'lrl1']\n",
      "[flaml.automl: 09-22 10:45:40] {3133} INFO - iteration 0, current learner lgbm\n",
      "[flaml.automl: 09-22 10:45:41] {3266} INFO - Estimated sufficient time budget=13027s. Estimated necessary time budget=320s.\n",
      "[flaml.automl: 09-22 10:45:41] {3313} INFO -  at 0.6s,\testimator lgbm's best error=0.3777,\tbest estimator lgbm's best error=0.3777\n",
      "[flaml.automl: 09-22 10:45:41] {3133} INFO - iteration 1, current learner lgbm\n",
      "[flaml.automl: 09-22 10:45:41] {3313} INFO -  at 0.7s,\testimator lgbm's best error=0.3777,\tbest estimator lgbm's best error=0.3777\n",
      "[flaml.automl: 09-22 10:45:41] {3133} INFO - iteration 2, current learner lgbm\n",
      "[flaml.automl: 09-22 10:45:41] {3313} INFO -  at 0.7s,\testimator lgbm's best error=0.3614,\tbest estimator lgbm's best error=0.3614\n",
      "[flaml.automl: 09-22 10:45:41] {3133} INFO - iteration 3, current learner xgboost\n",
      "[flaml.automl: 09-22 10:45:41] {3313} INFO -  at 0.8s,\testimator xgboost's best error=0.3787,\tbest estimator lgbm's best error=0.3614\n",
      "[flaml.automl: 09-22 10:45:41] {3133} INFO - iteration 4, current learner lgbm\n",
      "[flaml.automl: 09-22 10:45:41] {3313} INFO -  at 1.0s,\testimator lgbm's best error=0.3614,\tbest estimator lgbm's best error=0.3614\n",
      "[flaml.automl: 09-22 10:45:41] {3133} INFO - iteration 5, current learner lgbm\n",
      "[flaml.automl: 09-22 10:45:41] {3313} INFO -  at 1.0s,\testimator lgbm's best error=0.3614,\tbest estimator lgbm's best error=0.3614\n",
      "[flaml.automl: 09-22 10:45:41] {3133} INFO - iteration 6, current learner lgbm\n",
      "[flaml.automl: 09-22 10:45:41] {3313} INFO -  at 1.2s,\testimator lgbm's best error=0.3614,\tbest estimator lgbm's best error=0.3614\n",
      "[flaml.automl: 09-22 10:45:41] {3133} INFO - iteration 7, current learner lgbm\n",
      "[flaml.automl: 09-22 10:45:41] {3313} INFO -  at 1.3s,\testimator lgbm's best error=0.3614,\tbest estimator lgbm's best error=0.3614\n",
      "[flaml.automl: 09-22 10:45:41] {3133} INFO - iteration 8, current learner xgboost\n",
      "[flaml.automl: 09-22 10:45:41] {3313} INFO -  at 1.4s,\testimator xgboost's best error=0.3746,\tbest estimator lgbm's best error=0.3614\n",
      "[flaml.automl: 09-22 10:45:41] {3133} INFO - iteration 9, current learner extra_tree\n",
      "[flaml.automl: 09-22 10:45:41] {3313} INFO -  at 1.4s,\testimator extra_tree's best error=0.4389,\tbest estimator lgbm's best error=0.3614\n",
      "[flaml.automl: 09-22 10:45:41] {3133} INFO - iteration 10, current learner extra_tree\n",
      "[flaml.automl: 09-22 10:45:41] {3313} INFO -  at 1.5s,\testimator extra_tree's best error=0.3843,\tbest estimator lgbm's best error=0.3614\n",
      "[flaml.automl: 09-22 10:45:41] {3133} INFO - iteration 11, current learner extra_tree\n",
      "[flaml.automl: 09-22 10:45:41] {3313} INFO -  at 1.5s,\testimator extra_tree's best error=0.3764,\tbest estimator lgbm's best error=0.3614\n",
      "[flaml.automl: 09-22 10:45:41] {3133} INFO - iteration 12, current learner rf\n",
      "[flaml.automl: 09-22 10:45:41] {3313} INFO -  at 1.6s,\testimator rf's best error=0.3761,\tbest estimator lgbm's best error=0.3614\n",
      "[flaml.automl: 09-22 10:45:41] {3133} INFO - iteration 13, current learner rf\n",
      "[flaml.automl: 09-22 10:45:41] {3313} INFO -  at 1.6s,\testimator rf's best error=0.3761,\tbest estimator lgbm's best error=0.3614\n",
      "[flaml.automl: 09-22 10:45:41] {3133} INFO - iteration 14, current learner rf\n",
      "[flaml.automl: 09-22 10:45:42] {3313} INFO -  at 1.7s,\testimator rf's best error=0.3761,\tbest estimator lgbm's best error=0.3614\n",
      "[flaml.automl: 09-22 10:45:42] {3133} INFO - iteration 15, current learner xgboost\n",
      "[flaml.automl: 09-22 10:45:42] {3313} INFO -  at 1.8s,\testimator xgboost's best error=0.3699,\tbest estimator lgbm's best error=0.3614\n",
      "[flaml.automl: 09-22 10:45:42] {3133} INFO - iteration 16, current learner rf\n",
      "[flaml.automl: 09-22 10:45:42] {3313} INFO -  at 1.9s,\testimator rf's best error=0.3761,\tbest estimator lgbm's best error=0.3614\n",
      "[flaml.automl: 09-22 10:45:42] {3133} INFO - iteration 17, current learner extra_tree\n",
      "[flaml.automl: 09-22 10:45:42] {3313} INFO -  at 1.9s,\testimator extra_tree's best error=0.3764,\tbest estimator lgbm's best error=0.3614\n",
      "[flaml.automl: 09-22 10:45:42] {3133} INFO - iteration 18, current learner lgbm\n",
      "[flaml.automl: 09-22 10:45:42] {3313} INFO -  at 2.0s,\testimator lgbm's best error=0.3614,\tbest estimator lgbm's best error=0.3614\n",
      "[flaml.automl: 09-22 10:45:42] {3133} INFO - iteration 19, current learner rf\n",
      "[flaml.automl: 09-22 10:45:42] {3313} INFO -  at 2.1s,\testimator rf's best error=0.3758,\tbest estimator lgbm's best error=0.3614\n",
      "[flaml.automl: 09-22 10:45:42] {3133} INFO - iteration 20, current learner lgbm\n",
      "[flaml.automl: 09-22 10:45:42] {3313} INFO -  at 2.3s,\testimator lgbm's best error=0.3550,\tbest estimator lgbm's best error=0.3550\n",
      "[flaml.automl: 09-22 10:45:42] {3133} INFO - iteration 21, current learner catboost\n",
      "[flaml.automl: 09-22 10:45:43] {3313} INFO -  at 2.9s,\testimator catboost's best error=0.3587,\tbest estimator lgbm's best error=0.3550\n",
      "[flaml.automl: 09-22 10:45:43] {3133} INFO - iteration 22, current learner xgboost\n",
      "[flaml.automl: 09-22 10:45:43] {3313} INFO -  at 3.3s,\testimator xgboost's best error=0.3596,\tbest estimator lgbm's best error=0.3550\n",
      "[flaml.automl: 09-22 10:45:43] {3133} INFO - iteration 23, current learner lgbm\n",
      "[flaml.automl: 09-22 10:45:43] {3313} INFO -  at 3.4s,\testimator lgbm's best error=0.3550,\tbest estimator lgbm's best error=0.3550\n",
      "[flaml.automl: 09-22 10:45:43] {3133} INFO - iteration 24, current learner catboost\n",
      "[flaml.automl: 09-22 10:45:43] {3313} INFO -  at 3.6s,\testimator catboost's best error=0.3587,\tbest estimator lgbm's best error=0.3550\n",
      "[flaml.automl: 09-22 10:45:43] {3133} INFO - iteration 25, current learner extra_tree\n",
      "[flaml.automl: 09-22 10:45:44] {3313} INFO -  at 3.7s,\testimator extra_tree's best error=0.3764,\tbest estimator lgbm's best error=0.3550\n",
      "[flaml.automl: 09-22 10:45:44] {3133} INFO - iteration 26, current learner extra_tree\n",
      "[flaml.automl: 09-22 10:45:44] {3313} INFO -  at 3.7s,\testimator extra_tree's best error=0.3764,\tbest estimator lgbm's best error=0.3550\n",
      "[flaml.automl: 09-22 10:45:44] {3133} INFO - iteration 27, current learner catboost\n",
      "[flaml.automl: 09-22 10:45:44] {3313} INFO -  at 4.4s,\testimator catboost's best error=0.3587,\tbest estimator lgbm's best error=0.3550\n",
      "[flaml.automl: 09-22 10:45:44] {3133} INFO - iteration 28, current learner xgboost\n",
      "[flaml.automl: 09-22 10:45:44] {3313} INFO -  at 4.6s,\testimator xgboost's best error=0.3596,\tbest estimator lgbm's best error=0.3550\n",
      "[flaml.automl: 09-22 10:45:44] {3133} INFO - iteration 29, current learner extra_tree\n",
      "[flaml.automl: 09-22 10:45:44] {3313} INFO -  at 4.6s,\testimator extra_tree's best error=0.3764,\tbest estimator lgbm's best error=0.3550\n",
      "[flaml.automl: 09-22 10:45:44] {3133} INFO - iteration 30, current learner extra_tree\n",
      "[flaml.automl: 09-22 10:45:45] {3313} INFO -  at 4.7s,\testimator extra_tree's best error=0.3764,\tbest estimator lgbm's best error=0.3550\n",
      "[flaml.automl: 09-22 10:45:45] {3133} INFO - iteration 31, current learner lgbm\n",
      "[flaml.automl: 09-22 10:45:45] {3313} INFO -  at 5.1s,\testimator lgbm's best error=0.3545,\tbest estimator lgbm's best error=0.3545\n",
      "[flaml.automl: 09-22 10:45:45] {3133} INFO - iteration 32, current learner lgbm\n",
      "[flaml.automl: 09-22 10:45:45] {3313} INFO -  at 5.4s,\testimator lgbm's best error=0.3545,\tbest estimator lgbm's best error=0.3545\n",
      "[flaml.automl: 09-22 10:45:45] {3133} INFO - iteration 33, current learner lgbm\n",
      "[flaml.automl: 09-22 10:45:46] {3313} INFO -  at 6.3s,\testimator lgbm's best error=0.3545,\tbest estimator lgbm's best error=0.3545\n",
      "[flaml.automl: 09-22 10:45:46] {3133} INFO - iteration 34, current learner xgboost\n",
      "[flaml.automl: 09-22 10:45:46] {3313} INFO -  at 6.4s,\testimator xgboost's best error=0.3596,\tbest estimator lgbm's best error=0.3545\n",
      "[flaml.automl: 09-22 10:45:46] {3133} INFO - iteration 35, current learner lgbm\n",
      "[flaml.automl: 09-22 10:45:47] {3313} INFO -  at 6.7s,\testimator lgbm's best error=0.3536,\tbest estimator lgbm's best error=0.3536\n",
      "[flaml.automl: 09-22 10:45:47] {3133} INFO - iteration 36, current learner catboost\n",
      "[flaml.automl: 09-22 10:45:50] {3313} INFO -  at 10.1s,\testimator catboost's best error=0.3587,\tbest estimator lgbm's best error=0.3536\n",
      "[flaml.automl: 09-22 10:45:50] {3133} INFO - iteration 37, current learner extra_tree\n",
      "[flaml.automl: 09-22 10:45:50] {3313} INFO -  at 10.2s,\testimator extra_tree's best error=0.3764,\tbest estimator lgbm's best error=0.3536\n",
      "[flaml.automl: 09-22 10:45:50] {3133} INFO - iteration 38, current learner xgboost\n",
      "[flaml.automl: 09-22 10:45:51] {3313} INFO -  at 11.1s,\testimator xgboost's best error=0.3586,\tbest estimator lgbm's best error=0.3536\n",
      "[flaml.automl: 09-22 10:45:51] {3133} INFO - iteration 39, current learner catboost\n",
      "[flaml.automl: 09-22 10:45:53] {3313} INFO -  at 12.8s,\testimator catboost's best error=0.3483,\tbest estimator catboost's best error=0.3483\n",
      "[flaml.automl: 09-22 10:45:53] {3133} INFO - iteration 40, current learner xgb_limitdepth\n",
      "[flaml.automl: 09-22 10:45:53] {3313} INFO -  at 12.9s,\testimator xgb_limitdepth's best error=0.3630,\tbest estimator catboost's best error=0.3483\n",
      "[flaml.automl: 09-22 10:45:53] {3133} INFO - iteration 41, current learner xgb_limitdepth\n",
      "[flaml.automl: 09-22 10:45:53] {3313} INFO -  at 13.0s,\testimator xgb_limitdepth's best error=0.3630,\tbest estimator catboost's best error=0.3483\n",
      "[flaml.automl: 09-22 10:45:53] {3133} INFO - iteration 42, current learner xgb_limitdepth\n",
      "[flaml.automl: 09-22 10:45:53] {3313} INFO -  at 13.6s,\testimator xgb_limitdepth's best error=0.3630,\tbest estimator catboost's best error=0.3483\n",
      "[flaml.automl: 09-22 10:45:53] {3133} INFO - iteration 43, current learner xgb_limitdepth\n",
      "[flaml.automl: 09-22 10:45:54] {3313} INFO -  at 13.9s,\testimator xgb_limitdepth's best error=0.3572,\tbest estimator catboost's best error=0.3483\n",
      "[flaml.automl: 09-22 10:45:54] {3133} INFO - iteration 44, current learner lgbm\n",
      "[flaml.automl: 09-22 10:45:54] {3313} INFO -  at 14.3s,\testimator lgbm's best error=0.3536,\tbest estimator catboost's best error=0.3483\n",
      "[flaml.automl: 09-22 10:45:54] {3133} INFO - iteration 45, current learner xgb_limitdepth\n",
      "[flaml.automl: 09-22 10:45:55] {3313} INFO -  at 15.4s,\testimator xgb_limitdepth's best error=0.3536,\tbest estimator catboost's best error=0.3483\n",
      "[flaml.automl: 09-22 10:45:55] {3133} INFO - iteration 46, current learner xgb_limitdepth\n",
      "[flaml.automl: 09-22 10:45:56] {3313} INFO -  at 15.7s,\testimator xgb_limitdepth's best error=0.3536,\tbest estimator catboost's best error=0.3483\n",
      "[flaml.automl: 09-22 10:45:56] {3133} INFO - iteration 47, current learner xgb_limitdepth\n",
      "[flaml.automl: 09-22 10:45:56] {3313} INFO -  at 16.3s,\testimator xgb_limitdepth's best error=0.3536,\tbest estimator catboost's best error=0.3483\n",
      "[flaml.automl: 09-22 10:45:56] {3133} INFO - iteration 48, current learner catboost\n",
      "[flaml.automl: 09-22 10:45:57] {3313} INFO -  at 17.6s,\testimator catboost's best error=0.3479,\tbest estimator catboost's best error=0.3479\n",
      "[flaml.automl: 09-22 10:45:57] {3133} INFO - iteration 49, current learner extra_tree\n",
      "[flaml.automl: 09-22 10:45:58] {3313} INFO -  at 17.7s,\testimator extra_tree's best error=0.3764,\tbest estimator catboost's best error=0.3479\n",
      "[flaml.automl: 09-22 10:45:58] {3133} INFO - iteration 50, current learner catboost\n",
      "[flaml.automl: 09-22 10:46:15] {3313} INFO -  at 35.1s,\testimator catboost's best error=0.3479,\tbest estimator catboost's best error=0.3479\n",
      "[flaml.automl: 09-22 10:46:15] {3133} INFO - iteration 51, current learner extra_tree\n",
      "[flaml.automl: 09-22 10:46:15] {3313} INFO -  at 35.2s,\testimator extra_tree's best error=0.3760,\tbest estimator catboost's best error=0.3479\n",
      "[flaml.automl: 09-22 10:46:15] {3133} INFO - iteration 52, current learner xgb_limitdepth\n",
      "[flaml.automl: 09-22 10:46:17] {3313} INFO -  at 37.3s,\testimator xgb_limitdepth's best error=0.3516,\tbest estimator catboost's best error=0.3479\n",
      "[flaml.automl: 09-22 10:46:17] {3133} INFO - iteration 53, current learner catboost\n",
      "[flaml.automl: 09-22 10:46:24] {3313} INFO -  at 44.5s,\testimator catboost's best error=0.3384,\tbest estimator catboost's best error=0.3384\n",
      "[flaml.automl: 09-22 10:46:24] {3133} INFO - iteration 54, current learner lrl1\n",
      "/opt/conda/lib/python3.9/site-packages/sklearn/linear_model/_sag.py:352: ConvergenceWarning: The max_iter was reached which means the coef_ did not converge\n",
      "  warnings.warn(\n",
      "[flaml.automl: 09-22 10:46:25] {3313} INFO -  at 44.7s,\testimator lrl1's best error=0.4338,\tbest estimator catboost's best error=0.3384\n",
      "[flaml.automl: 09-22 10:46:25] {3133} INFO - iteration 55, current learner lrl1\n",
      "/opt/conda/lib/python3.9/site-packages/sklearn/linear_model/_sag.py:352: ConvergenceWarning: The max_iter was reached which means the coef_ did not converge\n",
      "  warnings.warn(\n",
      "[flaml.automl: 09-22 10:46:25] {3313} INFO -  at 44.9s,\testimator lrl1's best error=0.4338,\tbest estimator catboost's best error=0.3384\n",
      "[flaml.automl: 09-22 10:46:25] {3133} INFO - iteration 56, current learner lrl1\n",
      "/opt/conda/lib/python3.9/site-packages/sklearn/linear_model/_sag.py:352: ConvergenceWarning: The max_iter was reached which means the coef_ did not converge\n",
      "  warnings.warn(\n",
      "[flaml.automl: 09-22 10:46:25] {3313} INFO -  at 45.2s,\testimator lrl1's best error=0.4338,\tbest estimator catboost's best error=0.3384\n",
      "[flaml.automl: 09-22 10:46:25] {3133} INFO - iteration 57, current learner lgbm\n",
      "[flaml.automl: 09-22 10:46:26] {3313} INFO -  at 46.1s,\testimator lgbm's best error=0.3536,\tbest estimator catboost's best error=0.3384\n",
      "[flaml.automl: 09-22 10:46:26] {3133} INFO - iteration 58, current learner xgboost\n",
      "[flaml.automl: 09-22 10:46:26] {3313} INFO -  at 46.6s,\testimator xgboost's best error=0.3577,\tbest estimator catboost's best error=0.3384\n",
      "[flaml.automl: 09-22 10:46:26] {3133} INFO - iteration 59, current learner catboost\n",
      "[flaml.automl: 09-22 10:48:26] {3313} INFO -  at 166.2s,\testimator catboost's best error=0.3384,\tbest estimator catboost's best error=0.3384\n",
      "[flaml.automl: 09-22 10:48:26] {3133} INFO - iteration 60, current learner catboost\n",
      "[flaml.automl: 09-22 10:50:25] {3313} INFO -  at 285.5s,\testimator catboost's best error=0.3384,\tbest estimator catboost's best error=0.3384\n",
      "[flaml.automl: 09-22 10:50:25] {3133} INFO - iteration 61, current learner xgboost\n",
      "[flaml.automl: 09-22 10:50:26] {3313} INFO -  at 286.6s,\testimator xgboost's best error=0.3561,\tbest estimator catboost's best error=0.3384\n",
      "[flaml.automl: 09-22 10:50:26] {3133} INFO - iteration 62, current learner lgbm\n",
      "[flaml.automl: 09-22 10:50:28] {3313} INFO -  at 288.1s,\testimator lgbm's best error=0.3528,\tbest estimator catboost's best error=0.3384\n",
      "[flaml.automl: 09-22 10:50:28] {3133} INFO - iteration 63, current learner xgboost\n",
      "[flaml.automl: 09-22 10:50:29] {3313} INFO -  at 288.8s,\testimator xgboost's best error=0.3561,\tbest estimator catboost's best error=0.3384\n",
      "[flaml.automl: 09-22 10:50:29] {3133} INFO - iteration 64, current learner rf\n",
      "[flaml.automl: 09-22 10:50:29] {3313} INFO -  at 289.0s,\testimator rf's best error=0.3758,\tbest estimator catboost's best error=0.3384\n",
      "[flaml.automl: 09-22 10:50:29] {3133} INFO - iteration 65, current learner extra_tree\n",
      "[flaml.automl: 09-22 10:50:29] {3313} INFO -  at 289.1s,\testimator extra_tree's best error=0.3760,\tbest estimator catboost's best error=0.3384\n",
      "[flaml.automl: 09-22 10:50:29] {3133} INFO - iteration 66, current learner xgb_limitdepth\n",
      "[flaml.automl: 09-22 10:50:30] {3313} INFO -  at 289.8s,\testimator xgb_limitdepth's best error=0.3516,\tbest estimator catboost's best error=0.3384\n",
      "[flaml.automl: 09-22 10:50:30] {3133} INFO - iteration 67, current learner lgbm\n",
      "[flaml.automl: 09-22 10:50:34] {3313} INFO -  at 294.4s,\testimator lgbm's best error=0.3405,\tbest estimator catboost's best error=0.3384\n",
      "[flaml.automl: 09-22 10:50:34] {3133} INFO - iteration 68, current learner lgbm\n",
      "[flaml.automl: 09-22 10:50:36] {3313} INFO -  at 295.9s,\testimator lgbm's best error=0.3405,\tbest estimator catboost's best error=0.3384\n",
      "[flaml.automl: 09-22 10:50:36] {3133} INFO - iteration 69, current learner lgbm\n",
      "[flaml.automl: 09-22 10:50:40] {3313} INFO -  at 300.1s,\testimator lgbm's best error=0.3370,\tbest estimator lgbm's best error=0.3370\n",
      "[flaml.automl: 09-22 10:50:40] {3133} INFO - iteration 70, current learner lgbm\n",
      "[flaml.automl: 09-22 10:50:45] {3313} INFO -  at 304.7s,\testimator lgbm's best error=0.3370,\tbest estimator lgbm's best error=0.3370\n",
      "[flaml.automl: 09-22 10:50:45] {3133} INFO - iteration 71, current learner lgbm\n",
      "[flaml.automl: 09-22 10:50:48] {3313} INFO -  at 308.5s,\testimator lgbm's best error=0.3370,\tbest estimator lgbm's best error=0.3370\n",
      "[flaml.automl: 09-22 10:50:48] {3133} INFO - iteration 72, current learner lgbm\n",
      "[flaml.automl: 09-22 10:50:54] {3313} INFO -  at 313.8s,\testimator lgbm's best error=0.3318,\tbest estimator lgbm's best error=0.3318\n",
      "[flaml.automl: 09-22 10:50:54] {3133} INFO - iteration 73, current learner catboost\n",
      "[flaml.automl: 09-22 10:50:55] {3313} INFO -  at 315.0s,\testimator catboost's best error=0.3384,\tbest estimator lgbm's best error=0.3318\n",
      "[flaml.automl: 09-22 10:50:55] {3133} INFO - iteration 74, current learner lgbm\n",
      "[flaml.automl: 09-22 10:50:59] {3313} INFO -  at 319.4s,\testimator lgbm's best error=0.3282,\tbest estimator lgbm's best error=0.3282\n",
      "[flaml.automl: 09-22 10:50:59] {3133} INFO - iteration 75, current learner extra_tree\n",
      "[flaml.automl: 09-22 10:50:59] {3313} INFO -  at 319.5s,\testimator extra_tree's best error=0.3757,\tbest estimator lgbm's best error=0.3282\n",
      "[flaml.automl: 09-22 10:50:59] {3133} INFO - iteration 76, current learner lgbm\n",
      "[flaml.automl: 09-22 10:51:05] {3313} INFO -  at 324.9s,\testimator lgbm's best error=0.3282,\tbest estimator lgbm's best error=0.3282\n",
      "[flaml.automl: 09-22 10:51:05] {3133} INFO - iteration 77, current learner xgboost\n",
      "[flaml.automl: 09-22 10:51:07] {3313} INFO -  at 326.7s,\testimator xgboost's best error=0.3561,\tbest estimator lgbm's best error=0.3282\n",
      "[flaml.automl: 09-22 10:51:07] {3133} INFO - iteration 78, current learner lgbm\n",
      "[flaml.automl: 09-22 10:51:11] {3313} INFO -  at 331.4s,\testimator lgbm's best error=0.3282,\tbest estimator lgbm's best error=0.3282\n",
      "[flaml.automl: 09-22 10:51:11] {3133} INFO - iteration 79, current learner lgbm\n",
      "[flaml.automl: 09-22 10:51:17] {3313} INFO -  at 336.9s,\testimator lgbm's best error=0.3282,\tbest estimator lgbm's best error=0.3282\n",
      "[flaml.automl: 09-22 10:51:17] {3133} INFO - iteration 80, current learner extra_tree\n",
      "[flaml.automl: 09-22 10:51:17] {3313} INFO -  at 337.1s,\testimator extra_tree's best error=0.3757,\tbest estimator lgbm's best error=0.3282\n",
      "[flaml.automl: 09-22 10:51:17] {3133} INFO - iteration 81, current learner lgbm\n",
      "[flaml.automl: 09-22 10:51:22] {3313} INFO -  at 342.1s,\testimator lgbm's best error=0.3282,\tbest estimator lgbm's best error=0.3282\n",
      "[flaml.automl: 09-22 10:51:22] {3133} INFO - iteration 82, current learner lgbm\n",
      "[flaml.automl: 09-22 10:51:26] {3313} INFO -  at 346.4s,\testimator lgbm's best error=0.3282,\tbest estimator lgbm's best error=0.3282\n",
      "[flaml.automl: 09-22 10:51:26] {3133} INFO - iteration 83, current learner xgb_limitdepth\n",
      "[flaml.automl: 09-22 10:51:34] {3313} INFO -  at 353.7s,\testimator xgb_limitdepth's best error=0.3516,\tbest estimator lgbm's best error=0.3282\n",
      "[flaml.automl: 09-22 10:51:34] {3133} INFO - iteration 84, current learner lgbm\n",
      "[flaml.automl: 09-22 10:51:37] {3313} INFO -  at 356.7s,\testimator lgbm's best error=0.3282,\tbest estimator lgbm's best error=0.3282\n",
      "[flaml.automl: 09-22 10:51:37] {3133} INFO - iteration 85, current learner xgboost\n",
      "[flaml.automl: 09-22 10:51:38] {3313} INFO -  at 358.2s,\testimator xgboost's best error=0.3561,\tbest estimator lgbm's best error=0.3282\n",
      "[flaml.automl: 09-22 10:51:38] {3133} INFO - iteration 86, current learner catboost\n",
      "[flaml.automl: 09-22 10:51:39] {3313} INFO -  at 358.7s,\testimator catboost's best error=0.3384,\tbest estimator lgbm's best error=0.3282\n",
      "[flaml.automl: 09-22 10:51:39] {3133} INFO - iteration 87, current learner extra_tree\n",
      "[flaml.automl: 09-22 10:51:39] {3313} INFO -  at 358.8s,\testimator extra_tree's best error=0.3757,\tbest estimator lgbm's best error=0.3282\n",
      "[flaml.automl: 09-22 10:51:39] {3133} INFO - iteration 88, current learner rf\n",
      "[flaml.automl: 09-22 10:51:39] {3313} INFO -  at 358.9s,\testimator rf's best error=0.3758,\tbest estimator lgbm's best error=0.3282\n",
      "[flaml.automl: 09-22 10:51:39] {3133} INFO - iteration 89, current learner xgboost\n",
      "[flaml.automl: 09-22 10:51:40] {3313} INFO -  at 360.0s,\testimator xgboost's best error=0.3561,\tbest estimator lgbm's best error=0.3282\n",
      "[flaml.automl: 09-22 10:51:40] {3133} INFO - iteration 90, current learner lgbm\n",
      "[flaml.automl: 09-22 10:51:48] {3313} INFO -  at 368.6s,\testimator lgbm's best error=0.3282,\tbest estimator lgbm's best error=0.3282\n",
      "[flaml.automl: 09-22 10:51:48] {3133} INFO - iteration 91, current learner lgbm\n",
      "[flaml.automl: 09-22 10:52:08] {3313} INFO -  at 387.8s,\testimator lgbm's best error=0.3282,\tbest estimator lgbm's best error=0.3282\n",
      "[flaml.automl: 09-22 10:52:08] {3133} INFO - iteration 92, current learner xgb_limitdepth\n",
      "[flaml.automl: 09-22 10:52:09] {3313} INFO -  at 389.0s,\testimator xgb_limitdepth's best error=0.3516,\tbest estimator lgbm's best error=0.3282\n",
      "[flaml.automl: 09-22 10:52:09] {3133} INFO - iteration 93, current learner lgbm\n",
      "[flaml.automl: 09-22 10:52:11] {3313} INFO -  at 390.7s,\testimator lgbm's best error=0.3282,\tbest estimator lgbm's best error=0.3282\n",
      "[flaml.automl: 09-22 10:52:11] {3133} INFO - iteration 94, current learner xgb_limitdepth\n",
      "[flaml.automl: 09-22 10:52:31] {3313} INFO -  at 411.5s,\testimator xgb_limitdepth's best error=0.3448,\tbest estimator lgbm's best error=0.3282\n",
      "[flaml.automl: 09-22 10:52:31] {3133} INFO - iteration 95, current learner xgboost\n",
      "[flaml.automl: 09-22 10:52:33] {3313} INFO -  at 413.1s,\testimator xgboost's best error=0.3555,\tbest estimator lgbm's best error=0.3282\n",
      "[flaml.automl: 09-22 10:52:33] {3133} INFO - iteration 96, current learner catboost\n",
      "[flaml.automl: 09-22 10:52:34] {3313} INFO -  at 414.4s,\testimator catboost's best error=0.3384,\tbest estimator lgbm's best error=0.3282\n",
      "[flaml.automl: 09-22 10:52:34] {3133} INFO - iteration 97, current learner lgbm\n",
      "[flaml.automl: 09-22 10:53:04] {3313} INFO -  at 444.4s,\testimator lgbm's best error=0.3282,\tbest estimator lgbm's best error=0.3282\n",
      "[flaml.automl: 09-22 10:53:04] {3133} INFO - iteration 98, current learner xgb_limitdepth\n",
      "[flaml.automl: 09-22 10:53:21] {3313} INFO -  at 461.5s,\testimator xgb_limitdepth's best error=0.3448,\tbest estimator lgbm's best error=0.3282\n",
      "[flaml.automl: 09-22 10:53:21] {3133} INFO - iteration 99, current learner rf\n",
      "[flaml.automl: 09-22 10:53:22] {3313} INFO -  at 461.6s,\testimator rf's best error=0.3758,\tbest estimator lgbm's best error=0.3282\n",
      "[flaml.automl: 09-22 10:53:22] {3133} INFO - iteration 100, current learner catboost\n",
      "[flaml.automl: 09-22 10:53:29] {3313} INFO -  at 469.3s,\testimator catboost's best error=0.3384,\tbest estimator lgbm's best error=0.3282\n",
      "[flaml.automl: 09-22 10:53:29] {3133} INFO - iteration 101, current learner rf\n",
      "[flaml.automl: 09-22 10:53:30] {3313} INFO -  at 469.7s,\testimator rf's best error=0.3758,\tbest estimator lgbm's best error=0.3282\n",
      "[flaml.automl: 09-22 10:53:30] {3133} INFO - iteration 102, current learner lgbm\n",
      "[flaml.automl: 09-22 10:53:31] {3313} INFO -  at 471.1s,\testimator lgbm's best error=0.3282,\tbest estimator lgbm's best error=0.3282\n",
      "[flaml.automl: 09-22 10:53:31] {3133} INFO - iteration 103, current learner xgb_limitdepth\n",
      "[flaml.automl: 09-22 10:53:52] {3313} INFO -  at 492.6s,\testimator xgb_limitdepth's best error=0.3349,\tbest estimator lgbm's best error=0.3282\n",
      "[flaml.automl: 09-22 10:53:52] {3133} INFO - iteration 104, current learner xgb_limitdepth\n",
      "[flaml.automl: 09-22 10:54:18] {3313} INFO -  at 517.8s,\testimator xgb_limitdepth's best error=0.3349,\tbest estimator lgbm's best error=0.3282\n",
      "[flaml.automl: 09-22 10:54:18] {3133} INFO - iteration 105, current learner lgbm\n",
      "[flaml.automl: 09-22 10:54:23] {3313} INFO -  at 523.1s,\testimator lgbm's best error=0.3282,\tbest estimator lgbm's best error=0.3282\n",
      "[flaml.automl: 09-22 10:54:23] {3133} INFO - iteration 106, current learner extra_tree\n",
      "[flaml.automl: 09-22 10:54:23] {3313} INFO -  at 523.3s,\testimator extra_tree's best error=0.3757,\tbest estimator lgbm's best error=0.3282\n",
      "[flaml.automl: 09-22 10:54:23] {3133} INFO - iteration 107, current learner lgbm\n",
      "[flaml.automl: 09-22 10:54:27] {3313} INFO -  at 527.5s,\testimator lgbm's best error=0.3282,\tbest estimator lgbm's best error=0.3282\n",
      "[flaml.automl: 09-22 10:54:27] {3133} INFO - iteration 108, current learner xgboost\n",
      "[flaml.automl: 09-22 10:54:29] {3313} INFO -  at 528.9s,\testimator xgboost's best error=0.3555,\tbest estimator lgbm's best error=0.3282\n",
      "[flaml.automl: 09-22 10:54:29] {3133} INFO - iteration 109, current learner xgb_limitdepth\n",
      "[flaml.automl: 09-22 10:54:46] {3313} INFO -  at 545.6s,\testimator xgb_limitdepth's best error=0.3349,\tbest estimator lgbm's best error=0.3282\n",
      "[flaml.automl: 09-22 10:54:46] {3133} INFO - iteration 110, current learner lgbm\n",
      "[flaml.automl: 09-22 10:54:50] {3313} INFO -  at 550.1s,\testimator lgbm's best error=0.3274,\tbest estimator lgbm's best error=0.3274\n",
      "[flaml.automl: 09-22 10:54:50] {3133} INFO - iteration 111, current learner xgb_limitdepth\n",
      "[flaml.automl: 09-22 10:55:19] {3313} INFO -  at 578.6s,\testimator xgb_limitdepth's best error=0.3339,\tbest estimator lgbm's best error=0.3274\n",
      "[flaml.automl: 09-22 10:55:19] {3133} INFO - iteration 112, current learner rf\n",
      "[flaml.automl: 09-22 10:55:19] {3313} INFO -  at 579.4s,\testimator rf's best error=0.3757,\tbest estimator lgbm's best error=0.3274\n",
      "[flaml.automl: 09-22 10:55:19] {3133} INFO - iteration 113, current learner lgbm\n",
      "[flaml.automl: 09-22 10:55:24] {3313} INFO -  at 583.8s,\testimator lgbm's best error=0.3274,\tbest estimator lgbm's best error=0.3274\n",
      "[flaml.automl: 09-22 10:55:24] {3133} INFO - iteration 114, current learner extra_tree\n",
      "[flaml.automl: 09-22 10:55:24] {3313} INFO -  at 584.0s,\testimator extra_tree's best error=0.3666,\tbest estimator lgbm's best error=0.3274\n",
      "[flaml.automl: 09-22 10:55:24] {3133} INFO - iteration 115, current learner extra_tree\n",
      "[flaml.automl: 09-22 10:55:24] {3313} INFO -  at 584.2s,\testimator extra_tree's best error=0.3666,\tbest estimator lgbm's best error=0.3274\n",
      "[flaml.automl: 09-22 10:55:24] {3133} INFO - iteration 116, current learner extra_tree\n",
      "[flaml.automl: 09-22 10:55:24] {3313} INFO -  at 584.3s,\testimator extra_tree's best error=0.3666,\tbest estimator lgbm's best error=0.3274\n",
      "[flaml.automl: 09-22 10:55:24] {3133} INFO - iteration 117, current learner extra_tree\n",
      "[flaml.automl: 09-22 10:55:25] {3313} INFO -  at 584.7s,\testimator extra_tree's best error=0.3621,\tbest estimator lgbm's best error=0.3274\n",
      "[flaml.automl: 09-22 10:55:25] {3133} INFO - iteration 118, current learner extra_tree\n",
      "[flaml.automl: 09-22 10:55:25] {3313} INFO -  at 585.0s,\testimator extra_tree's best error=0.3584,\tbest estimator lgbm's best error=0.3274\n",
      "[flaml.automl: 09-22 10:55:25] {3133} INFO - iteration 119, current learner extra_tree\n",
      "[flaml.automl: 09-22 10:55:25] {3313} INFO -  at 585.3s,\testimator extra_tree's best error=0.3584,\tbest estimator lgbm's best error=0.3274\n",
      "[flaml.automl: 09-22 10:55:25] {3133} INFO - iteration 120, current learner extra_tree\n",
      "[flaml.automl: 09-22 10:55:25] {3313} INFO -  at 585.5s,\testimator extra_tree's best error=0.3557,\tbest estimator lgbm's best error=0.3274\n",
      "[flaml.automl: 09-22 10:55:25] {3133} INFO - iteration 121, current learner lgbm\n",
      "[flaml.automl: 09-22 10:55:28] {3313} INFO -  at 588.2s,\testimator lgbm's best error=0.3274,\tbest estimator lgbm's best error=0.3274\n",
      "[flaml.automl: 09-22 10:55:28] {3133} INFO - iteration 122, current learner extra_tree\n",
      "[flaml.automl: 09-22 10:55:28] {3313} INFO -  at 588.5s,\testimator extra_tree's best error=0.3557,\tbest estimator lgbm's best error=0.3274\n",
      "[flaml.automl: 09-22 10:55:28] {3133} INFO - iteration 123, current learner extra_tree\n",
      "[flaml.automl: 09-22 10:55:29] {3313} INFO -  at 588.7s,\testimator extra_tree's best error=0.3557,\tbest estimator lgbm's best error=0.3274\n",
      "[flaml.automl: 09-22 10:55:29] {3133} INFO - iteration 124, current learner extra_tree\n",
      "[flaml.automl: 09-22 10:55:29] {3313} INFO -  at 589.1s,\testimator extra_tree's best error=0.3557,\tbest estimator lgbm's best error=0.3274\n",
      "[flaml.automl: 09-22 10:55:29] {3133} INFO - iteration 125, current learner extra_tree\n",
      "[flaml.automl: 09-22 10:55:31] {3313} INFO -  at 590.7s,\testimator extra_tree's best error=0.3526,\tbest estimator lgbm's best error=0.3274\n",
      "[flaml.automl: 09-22 10:55:31] {3133} INFO - iteration 126, current learner lgbm\n",
      "[flaml.automl: 09-22 10:55:41] {3313} INFO -  at 601.5s,\testimator lgbm's best error=0.3269,\tbest estimator lgbm's best error=0.3269\n",
      "[flaml.automl: 09-22 10:55:54] {3577} INFO - retrain lgbm for 12.9s\n",
      "[flaml.automl: 09-22 10:55:54] {3584} INFO - retrained model: LGBMClassifier(colsample_bytree=0.8905312088154893,\n",
      "               learning_rate=0.15986853540486204, max_bin=63,\n",
      "               min_child_samples=115, n_estimators=157, num_leaves=985,\n",
      "               reg_alpha=0.17376372850615002, reg_lambda=196.88994398476,\n",
      "               verbose=-1)\n",
      "[flaml.automl: 09-22 10:55:54] {2862} INFO - fit succeeded\n",
      "[flaml.automl: 09-22 10:55:54] {2863} INFO - Time taken to find the best model: 601.4979393482208\n",
      "[flaml.automl: 09-22 10:55:54] {2874} WARNING - Time taken to find the best model is 100% of the provided time budget and not all estimators' hyperparameter search converged. Consider increasing the time budget.\n"
     ]
    }
   ],
   "source": [
    "'''The main flaml automl API'''\n",
    "automl.fit(X_train=X_train, y_train=y_train, **settings)"
   ]
  },
  {
   "cell_type": "markdown",
   "metadata": {
    "slideshow": {
     "slide_type": "slide"
    }
   },
   "source": [
    "### Best model and metric"
   ]
  },
  {
   "cell_type": "code",
   "execution_count": 5,
   "metadata": {
    "slideshow": {
     "slide_type": "slide"
    },
    "tags": []
   },
   "outputs": [
    {
     "name": "stdout",
     "output_type": "stream",
     "text": [
      "Best ML leaner: lgbm\n",
      "Best hyperparmeter config: {'n_estimators': 157, 'num_leaves': 985, 'min_child_samples': 115, 'learning_rate': 0.15986853540486204, 'log_max_bin': 6, 'colsample_bytree': 0.8905312088154893, 'reg_alpha': 0.17376372850615002, 'reg_lambda': 196.88994398476, 'FLAML_sample_size': 364083}\n",
      "Best accuracy on validation data: 0.6731\n",
      "Training duration of best run: 12.89 s\n"
     ]
    }
   ],
   "source": [
    "'''retrieve best config and best learner'''\n",
    "print('Best ML leaner:', automl.best_estimator)\n",
    "print('Best hyperparmeter config:', automl.best_config)\n",
    "print('Best accuracy on validation data: {0:.4g}'.format(1-automl.best_loss))\n",
    "print('Training duration of best run: {0:.4g} s'.format(automl.best_config_train_time))"
   ]
  },
  {
   "cell_type": "code",
   "execution_count": 6,
   "metadata": {
    "slideshow": {
     "slide_type": "slide"
    }
   },
   "outputs": [
    {
     "data": {
      "text/plain": [
       "LGBMClassifier(colsample_bytree=0.8905312088154893,\n",
       "               learning_rate=0.15986853540486204, max_bin=63,\n",
       "               min_child_samples=115, n_estimators=157, num_leaves=985,\n",
       "               reg_alpha=0.17376372850615002, reg_lambda=196.88994398476,\n",
       "               verbose=-1)"
      ]
     },
     "execution_count": 6,
     "metadata": {},
     "output_type": "execute_result"
    }
   ],
   "source": [
    "automl.model.estimator"
   ]
  },
  {
   "cell_type": "code",
   "execution_count": 8,
   "metadata": {
    "slideshow": {
     "slide_type": "slide"
    }
   },
   "outputs": [],
   "source": [
    "import os\n",
    "os.mkdir('./model')\n",
    "'''pickle and save the automl object'''\n",
    "import pickle\n",
    "with open('./model/automl.pkl', 'wb') as f:\n",
    "    pickle.dump(automl, f, pickle.HIGHEST_PROTOCOL)\n",
    "'''load pickled automl object'''\n",
    "with open('./model/automl.pkl', 'rb') as f:\n",
    "    automl = pickle.load(f)"
   ]
  },
  {
   "cell_type": "code",
   "execution_count": 9,
   "metadata": {
    "slideshow": {
     "slide_type": "slide"
    },
    "tags": []
   },
   "outputs": [
    {
     "name": "stdout",
     "output_type": "stream",
     "text": [
      "Predicted labels ['1' '0' '1' ... '1' '0' '0']\n",
      "True labels 118331    0\n",
      "328182    0\n",
      "335454    0\n",
      "520591    1\n",
      "344651    0\n",
      "         ..\n",
      "367080    0\n",
      "203510    1\n",
      "254894    0\n",
      "296512    1\n",
      "362444    0\n",
      "Name: Delay, Length: 134846, dtype: category\n",
      "Categories (2, object): ['0' < '1']\n"
     ]
    }
   ],
   "source": [
    "'''compute predictions of testing dataset''' \n",
    "y_pred = automl.predict(X_test)\n",
    "print('Predicted labels', y_pred)\n",
    "print('True labels', y_test)\n",
    "y_pred_proba = automl.predict_proba(X_test)[:,1]"
   ]
  },
  {
   "cell_type": "code",
   "execution_count": 10,
   "metadata": {
    "slideshow": {
     "slide_type": "slide"
    },
    "tags": []
   },
   "outputs": [
    {
     "name": "stdout",
     "output_type": "stream",
     "text": [
      "accuracy = 0.6716550731946072\n",
      "roc_auc = 0.7261168808693911\n",
      "log_loss = 0.6028861723506801\n"
     ]
    }
   ],
   "source": [
    "''' compute different metric values on testing dataset'''\n",
    "from flaml.ml import sklearn_metric_loss_score\n",
    "print('accuracy', '=', 1 - sklearn_metric_loss_score('accuracy', y_pred, y_test))\n",
    "print('roc_auc', '=', 1 - sklearn_metric_loss_score('roc_auc', y_pred_proba, y_test))\n",
    "print('log_loss', '=', sklearn_metric_loss_score('log_loss', y_pred_proba, y_test))"
   ]
  },
  {
   "cell_type": "markdown",
   "metadata": {
    "slideshow": {
     "slide_type": "slide"
    },
    "tags": []
   },
   "source": [
    "See Section 4 for an accuracy comparison with default LightGBM and XGBoost.\n",
    "\n",
    "### Log history"
   ]
  },
  {
   "cell_type": "code",
   "execution_count": 11,
   "metadata": {
    "slideshow": {
     "slide_type": "subslide"
    },
    "tags": []
   },
   "outputs": [
    {
     "name": "stdout",
     "output_type": "stream",
     "text": [
      "{'Current Learner': 'lgbm', 'Current Sample': 10000, 'Current Hyper-parameters': {'n_estimators': 4, 'num_leaves': 4, 'min_child_samples': 20, 'learning_rate': 0.09999999999999995, 'log_max_bin': 8, 'colsample_bytree': 1.0, 'reg_alpha': 0.0009765625, 'reg_lambda': 1.0, 'FLAML_sample_size': 10000}, 'Best Learner': 'lgbm', 'Best Hyper-parameters': {'n_estimators': 4, 'num_leaves': 4, 'min_child_samples': 20, 'learning_rate': 0.09999999999999995, 'log_max_bin': 8, 'colsample_bytree': 1.0, 'reg_alpha': 0.0009765625, 'reg_lambda': 1.0, 'FLAML_sample_size': 10000}}\n",
      "{'Current Learner': 'lgbm', 'Current Sample': 10000, 'Current Hyper-parameters': {'n_estimators': 26, 'num_leaves': 4, 'min_child_samples': 18, 'learning_rate': 0.22930096764186372, 'log_max_bin': 9, 'colsample_bytree': 0.9086551727646448, 'reg_alpha': 0.0015561782752413472, 'reg_lambda': 0.33127416269768944, 'FLAML_sample_size': 10000}, 'Best Learner': 'lgbm', 'Best Hyper-parameters': {'n_estimators': 26, 'num_leaves': 4, 'min_child_samples': 18, 'learning_rate': 0.22930096764186372, 'log_max_bin': 9, 'colsample_bytree': 0.9086551727646448, 'reg_alpha': 0.0015561782752413472, 'reg_lambda': 0.33127416269768944, 'FLAML_sample_size': 10000}}\n",
      "{'Current Learner': 'lgbm', 'Current Sample': 40000, 'Current Hyper-parameters': {'n_estimators': 55, 'num_leaves': 4, 'min_child_samples': 20, 'learning_rate': 0.4365396221333287, 'log_max_bin': 10, 'colsample_bytree': 0.8048558760626646, 'reg_alpha': 0.0009765625, 'reg_lambda': 0.23010605579846408, 'FLAML_sample_size': 40000}, 'Best Learner': 'lgbm', 'Best Hyper-parameters': {'n_estimators': 55, 'num_leaves': 4, 'min_child_samples': 20, 'learning_rate': 0.4365396221333287, 'log_max_bin': 10, 'colsample_bytree': 0.8048558760626646, 'reg_alpha': 0.0009765625, 'reg_lambda': 0.23010605579846408, 'FLAML_sample_size': 40000}}\n",
      "{'Current Learner': 'lgbm', 'Current Sample': 40000, 'Current Hyper-parameters': {'n_estimators': 90, 'num_leaves': 18, 'min_child_samples': 34, 'learning_rate': 0.3572626620529719, 'log_max_bin': 10, 'colsample_bytree': 0.9295656128173544, 'reg_alpha': 0.0009765625, 'reg_lambda': 0.19814636043056766, 'FLAML_sample_size': 40000}, 'Best Learner': 'lgbm', 'Best Hyper-parameters': {'n_estimators': 90, 'num_leaves': 18, 'min_child_samples': 34, 'learning_rate': 0.3572626620529719, 'log_max_bin': 10, 'colsample_bytree': 0.9295656128173544, 'reg_alpha': 0.0009765625, 'reg_lambda': 0.19814636043056766, 'FLAML_sample_size': 40000}}\n",
      "{'Current Learner': 'lgbm', 'Current Sample': 40000, 'Current Hyper-parameters': {'n_estimators': 56, 'num_leaves': 7, 'min_child_samples': 92, 'learning_rate': 0.23536463281405412, 'log_max_bin': 10, 'colsample_bytree': 0.9898009552962395, 'reg_alpha': 0.0009765625, 'reg_lambda': 0.14329426172643323, 'FLAML_sample_size': 40000}, 'Best Learner': 'lgbm', 'Best Hyper-parameters': {'n_estimators': 56, 'num_leaves': 7, 'min_child_samples': 92, 'learning_rate': 0.23536463281405412, 'log_max_bin': 10, 'colsample_bytree': 0.9898009552962395, 'reg_alpha': 0.0009765625, 'reg_lambda': 0.14329426172643323, 'FLAML_sample_size': 40000}}\n",
      "{'Current Learner': 'catboost', 'Current Sample': 40000, 'Current Hyper-parameters': {'early_stopping_rounds': 10, 'learning_rate': 0.09999999999999996, 'n_estimators': 98, 'FLAML_sample_size': 40000}, 'Best Learner': 'catboost', 'Best Hyper-parameters': {'early_stopping_rounds': 10, 'learning_rate': 0.09999999999999996, 'n_estimators': 98, 'FLAML_sample_size': 40000}}\n",
      "{'Current Learner': 'catboost', 'Current Sample': 40000, 'Current Hyper-parameters': {'early_stopping_rounds': 10, 'learning_rate': 0.2, 'n_estimators': 68, 'FLAML_sample_size': 40000}, 'Best Learner': 'catboost', 'Best Hyper-parameters': {'early_stopping_rounds': 10, 'learning_rate': 0.2, 'n_estimators': 68, 'FLAML_sample_size': 40000}}\n",
      "{'Current Learner': 'catboost', 'Current Sample': 364083, 'Current Hyper-parameters': {'early_stopping_rounds': 10, 'learning_rate': 0.2, 'n_estimators': 60, 'FLAML_sample_size': 364083}, 'Best Learner': 'catboost', 'Best Hyper-parameters': {'early_stopping_rounds': 10, 'learning_rate': 0.2, 'n_estimators': 60, 'FLAML_sample_size': 364083}}\n"
     ]
    }
   ],
   "source": [
    "from flaml.data import get_output_from_log\n",
    "time_history, best_valid_loss_history, valid_loss_history, config_history, metric_history = \\\n",
    "    get_output_from_log(filename=settings['log_file_name'], time_budget=240)\n",
    "for config in config_history:\n",
    "    print(config)"
   ]
  },
  {
   "cell_type": "code",
   "execution_count": 14,
   "metadata": {
    "slideshow": {
     "slide_type": "slide"
    }
   },
   "outputs": [
    {
     "data": {
      "image/png": "[encoded data removed]",
      "text/plain": [
       "<Figure size 432x288 with 1 Axes>"
      ]
     },
     "metadata": {
      "needs_background": "light"
     },
     "output_type": "display_data"
    }
   ],
   "source": [
    "import matplotlib.pyplot as plt\n",
    "import numpy as np\n",
    "\n",
    "plt.title('Learning Curve')\n",
    "plt.xlabel('Wall Clock Time (s)')\n",
    "plt.ylabel('Validation Accuracy')\n",
    "plt.scatter(time_history, 1 - np.array(valid_loss_history))\n",
    "plt.step(time_history, 1 - np.array(best_valid_loss_history), where='post')\n",
    "plt.savefig('./learningcurve.png')\n",
    "plt.show()"
   ]
  }
 ],
 "metadata": {
  "interpreter": {
   "hash": "5432eb6463ddd46aaa76ccf859b1fa421ab98224a755661a6688060ed6e23d59"
  },
  "kernelspec": {
   "display_name": "Python 3 (ipykernel)",
   "language": "python",
   "name": "python3"
  },
  "language_info": {
   "codemirror_mode": {
    "name": "ipython",
    "version": 3
   },
   "file_extension": ".py",
   "mimetype": "text/x-python",
   "name": "python",
   "nbconvert_exporter": "python",
   "pygments_lexer": "ipython3",
   "version": "3.9.12"
  }
 },
 "nbformat": 4,
 "nbformat_minor": 4
}
